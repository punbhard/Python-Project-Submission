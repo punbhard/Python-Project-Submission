{
 "cells": [
  {
   "cell_type": "code",
   "execution_count": 20,
   "metadata": {},
   "outputs": [],
   "source": [
    "from selenium import webdriver\n",
    "from selenium.webdriver.common.by import By\n",
    "from selenium.webdriver.support.ui import WebDriverWait\n",
    "import pandas as pd"
   ]
  },
  {
   "cell_type": "code",
   "execution_count": 38,
   "metadata": {},
   "outputs": [
    {
     "name": "stdout",
     "output_type": "stream",
     "text": [
      "You have Good Taste in Genre\n",
      "Here is your Movie Recommendation:\n",
      "      Title                Date\n",
      "Borderlands Opened Aug 09, 2024\n"
     ]
    }
   ],
   "source": [
    "Genre_List=[\"action\",\"adventure\",\"animation\",\"anime\",\"biography\",\"comedy\",\"crime\",\"documentary\",\"drama\",\"fantasy\",\"lgbtq\"]\n",
    "\n",
    "#Taking input from user for Genre\n",
    "while True:\n",
    "    try:    \n",
    "        genre=str(input(f\"Choose a Genre ({', '.join(Genre_List)}): \")).strip().casefold()\n",
    "        if genre in Genre_List:\n",
    "            print(\"You have Good Taste in Genre\")\n",
    "            print(\"Here is your Movie Recommendation:\")\n",
    "            break  # Break the loop after a valid selection\n",
    "        else:\n",
    "            print(\"Currently no recommendations available for this Genre, please choose from the List:\")\n",
    "            print(\", \".join(Genre_List))\n",
    "            continue  # Continue to the next iteration of the loop\n",
    "    except Exception as e:\n",
    "        print(f\"An error occurred: {e}\")\n",
    "\n",
    "#Extract Movie information\n",
    "driver=webdriver.Chrome()\n",
    "driver.get(f\"https://www.rottentomatoes.com/browse/movies_in_theaters/genres:{genre}~sort:a_z\")\n",
    "wait = WebDriverWait(driver, 10)\n",
    "Movie_title=[ title.text for title in driver.find_elements(By.XPATH,\"//span[@data-qa='discovery-media-list-item-title']\")]\n",
    "Movie_date=[date.text for date in driver.find_elements(By.XPATH,\"//span[@data-qa='discovery-media-list-item-start-date']\")]\n",
    "\n",
    "#Create Pandas Dataframe\n",
    "Movie_data=pd.DataFrame({\"Title\":Movie_title,\"Date\":Movie_date})\n",
    "\n",
    "#Selecting Random movie suggestion from Dataframe\n",
    "Random_movie=Movie_data.sample(n=1)\n",
    "print(Random_movie.to_string(index=False))"
   ]
  }
 ],
 "metadata": {
  "kernelspec": {
   "display_name": ".venv",
   "language": "python",
   "name": "python3"
  },
  "language_info": {
   "codemirror_mode": {
    "name": "ipython",
    "version": 3
   },
   "file_extension": ".py",
   "mimetype": "text/x-python",
   "name": "python",
   "nbconvert_exporter": "python",
   "pygments_lexer": "ipython3",
   "version": "3.12.5"
  }
 },
 "nbformat": 4,
 "nbformat_minor": 2
}
